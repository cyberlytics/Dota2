{
 "cells": [
  {
   "cell_type": "code",
   "execution_count": 1,
   "id": "99106907",
   "metadata": {},
   "outputs": [],
   "source": [
    "import pymongo"
   ]
  },
  {
   "cell_type": "code",
   "execution_count": 2,
   "id": "77ebbffe",
   "metadata": {},
   "outputs": [],
   "source": [
    "conn = \"mongodb://mongodb-ki:27017,mongodb-ki2:27017,mongodb-ki3:27017/?replicaSet=rs0-ki\""
   ]
  },
  {
   "cell_type": "code",
   "execution_count": 3,
   "id": "5eb15596",
   "metadata": {},
   "outputs": [
    {
     "data": {
      "text/plain": [
       "Database(MongoClient(host=['mongodb-ki3:27017', 'mongodb-ki2:27017', 'mongodb-ki:27017'], document_class=dict, tz_aware=False, connect=True, replicaset='rs0-ki'), 'Data-KI')"
      ]
     },
     "execution_count": 3,
     "metadata": {},
     "output_type": "execute_result"
    }
   ],
   "source": [
    "client = pymongo.MongoClient(conn)\n",
    "client['Data-KI']"
   ]
  },
  {
   "cell_type": "code",
   "execution_count": 4,
   "id": "6fac3fd8",
   "metadata": {},
   "outputs": [
    {
     "name": "stdout",
     "output_type": "stream",
     "text": [
      "frozenset({('mongodb-ki', 27017), ('mongodb-ki3', 27017), ('mongodb-ki2', 27017)})\n",
      "frozenset({('mongodb-ki', 27017), ('mongodb-ki3', 27017), ('mongodb-ki2', 27017)})\n"
     ]
    }
   ],
   "source": [
    "from time import sleep\n",
    "print(client.nodes); sleep(0.1); print(client.nodes)"
   ]
  },
  {
   "cell_type": "code",
   "execution_count": 5,
   "id": "887c6564",
   "metadata": {},
   "outputs": [
    {
     "data": {
      "text/plain": [
       "Collection(Database(MongoClient(host=['mongodb-ki3:27017', 'mongodb-ki2:27017', 'mongodb-ki:27017'], document_class=dict, tz_aware=False, connect=True, replicaset='rs0-ki'), 'Data-KI'), 'MatchesDto')"
      ]
     },
     "execution_count": 5,
     "metadata": {},
     "output_type": "execute_result"
    }
   ],
   "source": [
    "client['Data-KI']['MatchesDto']"
   ]
  },
  {
   "cell_type": "code",
   "execution_count": 6,
   "id": "8f6c7a5e",
   "metadata": {},
   "outputs": [],
   "source": [
    "client['Data-KI']['MatchesDto'].find_one()"
   ]
  }
 ],
 "metadata": {
  "kernelspec": {
   "display_name": "Python 3",
   "language": "python",
   "name": "python3"
  },
  "language_info": {
   "codemirror_mode": {
    "name": "ipython",
    "version": 3
   },
   "file_extension": ".py",
   "mimetype": "text/x-python",
   "name": "python",
   "nbconvert_exporter": "python",
   "pygments_lexer": "ipython3",
   "version": "3.9.2"
  }
 },
 "nbformat": 4,
 "nbformat_minor": 5
}
