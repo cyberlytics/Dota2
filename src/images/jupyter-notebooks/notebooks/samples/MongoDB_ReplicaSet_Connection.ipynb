{
 "cells": [
  {
   "cell_type": "markdown",
   "id": "40448bc0",
   "metadata": {},
   "source": [
    "### Demonstration der Verwendung einer Verbindung zu den einzelnen Nodes eines Replica Sets\n",
    "#### Fährt man einen der 3 MongoDBs herunter, sollte das Auslesen der Daten trotzdem noch funktionieren"
   ]
  },
  {
   "cell_type": "code",
   "execution_count": 1,
   "id": "99106907",
   "metadata": {},
   "outputs": [],
   "source": [
    "import pymongo"
   ]
  },
  {
   "cell_type": "code",
   "execution_count": 2,
   "id": "77ebbffe",
   "metadata": {},
   "outputs": [],
   "source": [
    "conn = \"mongodb://mongodb-ki:27017,mongodb-ki2:27017,mongodb-ki3:27017/?replicaSet=rs0-ki\""
   ]
  },
  {
   "cell_type": "code",
   "execution_count": 3,
   "id": "5eb15596",
   "metadata": {},
   "outputs": [
    {
     "data": {
      "text/plain": [
       "Database(MongoClient(host=['mongodb-ki:27017', 'mongodb-ki2:27017', 'mongodb-ki3:27017'], document_class=dict, tz_aware=False, connect=True, replicaset='rs0-ki'), 'Data-KI')"
      ]
     },
     "execution_count": 3,
     "metadata": {},
     "output_type": "execute_result"
    }
   ],
   "source": [
    "client = pymongo.MongoClient(conn)\n",
    "client['Data-KI']"
   ]
  },
  {
   "cell_type": "code",
   "execution_count": 4,
   "id": "6fac3fd8",
   "metadata": {},
   "outputs": [
    {
     "name": "stdout",
     "output_type": "stream",
     "text": [
      "frozenset({('mongodb-ki', 27017), ('mongodb-ki2', 27017), ('mongodb-ki3', 27017)})\n",
      "frozenset({('mongodb-ki', 27017), ('mongodb-ki2', 27017), ('mongodb-ki3', 27017)})\n"
     ]
    }
   ],
   "source": [
    "from time import sleep\n",
    "print(client.nodes); sleep(0.1); print(client.nodes)"
   ]
  },
  {
   "cell_type": "code",
   "execution_count": 5,
   "id": "887c6564",
   "metadata": {},
   "outputs": [
    {
     "data": {
      "text/plain": [
       "Collection(Database(MongoClient(host=['mongodb-ki:27017', 'mongodb-ki2:27017', 'mongodb-ki3:27017'], document_class=dict, tz_aware=False, connect=True, replicaset='rs0-ki'), 'Data-KI'), 'MatchesDto')"
      ]
     },
     "execution_count": 5,
     "metadata": {},
     "output_type": "execute_result"
    }
   ],
   "source": [
    "client['Data-KI']['MatchesDto']"
   ]
  },
  {
   "cell_type": "code",
   "execution_count": 6,
   "id": "8f6c7a5e",
   "metadata": {},
   "outputs": [
    {
     "data": {
      "text/plain": [
       "{'_id': ObjectId('60d33ba83420b8edaaa9cba8'),\n",
       " 'match_id': 6049289816,\n",
       " 'radiant_win': True,\n",
       " 'players': [{'pings': 2, 'assists': 3, 'deaths': 1, 'kills': 21, 'win': True},\n",
       "  {'pings': 6, 'assists': 10, 'deaths': 1, 'kills': 0, 'win': True},\n",
       "  {'pings': 11, 'assists': 7, 'deaths': 4, 'kills': 2, 'win': True},\n",
       "  {'pings': 0, 'assists': 6, 'deaths': 0, 'kills': 9, 'win': True},\n",
       "  {'pings': 2, 'assists': 2, 'deaths': 2, 'kills': 1, 'win': True},\n",
       "  {'pings': 4, 'assists': 1, 'deaths': 14, 'kills': 1, 'win': False},\n",
       "  {'pings': 12, 'assists': 1, 'deaths': 11, 'kills': 1, 'win': False},\n",
       "  {'pings': 9, 'assists': 1, 'deaths': 3, 'kills': 0, 'win': False},\n",
       "  {'pings': 1, 'assists': 1, 'deaths': 2, 'kills': 2, 'win': False},\n",
       "  {'pings': 1, 'assists': 3, 'deaths': 5, 'kills': 1, 'win': False}]}"
      ]
     },
     "execution_count": 6,
     "metadata": {},
     "output_type": "execute_result"
    }
   ],
   "source": [
    "client['Data-KI']['MatchesDto'].find_one()"
   ]
  }
 ],
 "metadata": {
  "kernelspec": {
   "display_name": "Python 3",
   "language": "python",
   "name": "python3"
  },
  "language_info": {
   "codemirror_mode": {
    "name": "ipython",
    "version": 3
   },
   "file_extension": ".py",
   "mimetype": "text/x-python",
   "name": "python",
   "nbconvert_exporter": "python",
   "pygments_lexer": "ipython3",
   "version": "3.9.2"
  }
 },
 "nbformat": 4,
 "nbformat_minor": 5
}
