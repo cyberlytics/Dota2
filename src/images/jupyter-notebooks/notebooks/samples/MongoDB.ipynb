{
 "cells": [
  {
   "cell_type": "code",
   "execution_count": 2,
   "metadata": {},
   "outputs": [],
   "source": [
    "%run ../../Setup.ipynb\n",
    "\n",
    "# Importieren der MongoDB Helper Klasse\n",
    "from bdcc.database.connection import database_connector as connector"
   ]
  },
  {
   "cell_type": "code",
   "execution_count": 3,
   "metadata": {},
   "outputs": [],
   "source": [
    "# Aufbauen der Verbindung\n",
    "# Port\n",
    "# Name der Collection\n",
    "connection = connector.DatabaseConnector(port = 27018, database = \"Data-KI\", collection=\"MatchesDto\").connect()"
   ]
  },
  {
   "cell_type": "code",
   "execution_count": 4,
   "metadata": {},
   "outputs": [
    {
     "name": "stdout",
     "output_type": "stream",
     "text": [
      "['MatchesDto']\n",
      "Collection(Database(MongoClient(host=['mongodb-ki:27017'], document_class=dict, tz_aware=False, connect=True), 'Data-KI'), 'MatchesDto')\n"
     ]
    }
   ],
   "source": [
    "# Collections zurückgeben\n",
    "print(connection.getCollectionNames())\n",
    "# Auslesen einer bestimmten Collection\n",
    "print(connection.getCollection(\"MatchesDto\"))"
   ]
  },
  {
   "cell_type": "code",
   "execution_count": 5,
   "metadata": {},
   "outputs": [
    {
     "data": {
      "text/plain": [
       "<pymongo.results.InsertOneResult at 0x7f713c482d80>"
      ]
     },
     "execution_count": 5,
     "metadata": {},
     "output_type": "execute_result"
    }
   ],
   "source": [
    "# Create\n",
    "# Erstellen eines neuen Datensatzes in der MongoDB\n",
    "matches = connection.getCollection(\"MatchesDto\")\n",
    "match = {\n",
    "            \"match_id\" : 24,\n",
    "            \"radiant_win\" : True,\n",
    "            \"players\" : [{\n",
    "                \"pings\": 5\n",
    "            }]\n",
    "        }\n",
    "\n",
    "connection.create(match)"
   ]
  },
  {
   "cell_type": "code",
   "execution_count": 6,
   "metadata": {},
   "outputs": [
    {
     "name": "stdout",
     "output_type": "stream",
     "text": [
      "{'_id': ObjectId('60ce0d68176973a803c0e437'), 'match_id': 24, 'radiant_win': True, 'players': [{'pings': 5}]}\n"
     ]
    }
   ],
   "source": [
    "# Get - Alle Matches\n",
    "matches = connection.getCollection(\"MatchesDto\")\n",
    "matches = connection.get()\n",
    "for match in matches:\n",
    "    print(match)"
   ]
  },
  {
   "cell_type": "code",
   "execution_count": 7,
   "metadata": {},
   "outputs": [
    {
     "name": "stdout",
     "output_type": "stream",
     "text": [
      "{'_id': ObjectId('60ce0d68176973a803c0e437'), 'match_id': 24, 'radiant_win': True, 'players': [{'pings': 5}]}\n"
     ]
    }
   ],
   "source": [
    "# Get - Match mit match_id <id>\n",
    "match = connection.get(24)\n",
    "for match in match:\n",
    "    print(match)"
   ]
  },
  {
   "cell_type": "code",
   "execution_count": 8,
   "metadata": {},
   "outputs": [
    {
     "name": "stdout",
     "output_type": "stream",
     "text": [
      "{'_id': ObjectId('60ce0d68176973a803c0e437'), 'match_id': 24, 'radiant_win': False, 'players': [{'pings': 10}]}\n"
     ]
    }
   ],
   "source": [
    "# Update\n",
    "match_update = {    \n",
    "            \"match_id\" : 24,\n",
    "            \"radiant_win\" : False,\n",
    "            \"players\" : [{\n",
    "                \"pings\": 10\n",
    "            }]\n",
    "        }\n",
    "\n",
    "connection.update(24, match_update)\n",
    "\n",
    "\n",
    "match = connection.get()\n",
    "for match in match:\n",
    "    print(match)"
   ]
  },
  {
   "cell_type": "code",
   "execution_count": 9,
   "metadata": {},
   "outputs": [],
   "source": [
    "# Remove\n",
    "connection.remove(24)\n",
    "\n",
    "match = connection.get()\n",
    "for match in match:\n",
    "    print(match)"
   ]
  }
 ],
 "metadata": {
  "kernelspec": {
   "display_name": "Python 3",
   "language": "python",
   "name": "python3"
  },
  "language_info": {
   "codemirror_mode": {
    "name": "ipython",
    "version": 3
   },
   "file_extension": ".py",
   "mimetype": "text/x-python",
   "name": "python",
   "nbconvert_exporter": "python",
   "pygments_lexer": "ipython3",
   "version": "3.9.2"
  },
  "metadata": {
   "interpreter": {
    "hash": "cc033ebe99e405e33a4a383e14ae1664bf67e0ee711f463ee69b81dbdcfa5b78"
   }
  }
 },
 "nbformat": 4,
 "nbformat_minor": 2
}
