{
 "metadata": {
  "language_info": {
   "codemirror_mode": {
    "name": "ipython",
    "version": 3
   },
   "file_extension": ".py",
   "mimetype": "text/x-python",
   "name": "python",
   "nbconvert_exporter": "python",
   "pygments_lexer": "ipython3",
   "version": "3.9.5"
  },
  "orig_nbformat": 4,
  "kernelspec": {
   "name": "python3",
   "display_name": "Python 3.9.5 64-bit"
  },
  "interpreter": {
   "hash": "63fd5069d213b44bf678585dea6b12cceca9941eaf7f819626cde1f2670de90d"
  }
 },
 "nbformat": 4,
 "nbformat_minor": 2,
 "cells": [
  {
   "cell_type": "code",
   "execution_count": 1,
   "metadata": {},
   "outputs": [],
   "source": [
    "%run ../../Setup.ipynb\n",
    "import ast\n",
    "import json\n",
    "from bdcc.database.connection import database_connector as connector"
   ]
  },
  {
   "cell_type": "code",
   "execution_count": 2,
   "metadata": {},
   "outputs": [],
   "source": [
    "def write_match(match):\n",
    "    \"\"\"\n",
    "    Function to create entries in the database.\n",
    "    params: *match: dict of match data\n",
    "    \"\"\"\n",
    "    # connect to database\n",
    "    db_con = connector.DatabaseConnector()\n",
    "    db_con.connect()\n",
    "\n",
    "    match_found = False\n",
    "    for entry in db_con.get(id=match['match_id']):\n",
    "        if entry:\n",
    "            match_found = True\n",
    "\n",
    "    if not match_found:\n",
    "        db_con.create(match) # create new entry in database\n",
    "\n",
    "    db_con.disconnect()"
   ]
  },
  {
   "cell_type": "code",
   "execution_count": 3,
   "metadata": {},
   "outputs": [],
   "source": [
    "def delete_match(match_id):\n",
    "    \"\"\"\n",
    "    Function to delete entries in the database.\n",
    "    params: *match_id: id of the match to be deleted\n",
    "    \"\"\"\n",
    "    db_con = connector.DatabaseConnector()\n",
    "    db_con.connect()\n",
    "    db_con.remove(match_id)\n",
    "    db_con.disconnect()"
   ]
  },
  {
   "cell_type": "code",
   "execution_count": 4,
   "metadata": {},
   "outputs": [],
   "source": [
    "def train_model():\n",
    "    pass"
   ]
  },
  {
   "cell_type": "code",
   "execution_count": 5,
   "metadata": {},
   "outputs": [],
   "source": [
    "def predict():\n",
    "    pass"
   ]
  }
 ]
}