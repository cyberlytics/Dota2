{
 "metadata": {
  "language_info": {
   "codemirror_mode": {
    "name": "ipython",
    "version": 3
   },
   "file_extension": ".py",
   "mimetype": "text/x-python",
   "name": "python",
   "nbconvert_exporter": "python",
   "pygments_lexer": "ipython3",
   "version": "3.9.5"
  },
  "orig_nbformat": 4,
  "kernelspec": {
   "name": "python3",
   "display_name": "Python 3.9.5 64-bit"
  },
  "interpreter": {
   "hash": "63fd5069d213b44bf678585dea6b12cceca9941eaf7f819626cde1f2670de90d"
  }
 },
 "nbformat": 4,
 "nbformat_minor": 2,
 "cells": [
  {
   "cell_type": "code",
   "execution_count": 1,
   "metadata": {},
   "outputs": [],
   "source": [
    "%run ../../Setup.ipynb\n",
    "import os\n",
    "import unittest \n",
    "import testcases"
   ]
  },
  {
   "cell_type": "code",
   "execution_count": 2,
   "metadata": {},
   "outputs": [],
   "source": [
    "def suite():\n",
    "    \"\"\" Funktion zum Erstellen einer Test Suite. \"\"\"\n",
    "    suite = unittest.TestSuite()\n",
    "    suite.addTest(testcases.suite())\n",
    "    return suite"
   ]
  },
  {
   "cell_type": "code",
   "execution_count": 3,
   "metadata": {
    "tags": []
   },
   "outputs": [
    {
     "output_type": "stream",
     "name": "stderr",
     "text": [
      "test_get_10_matches (testcases.TestGetMatches) ... ok\n",
      "test_get_all_matches (testcases.TestGetMatches) ... ok\n",
      "test_get_matches_return_type (testcases.TestGetMatches) ... ok\n",
      "test_get_one_match_index_0 (testcases.TestGetMatches) ... ok\n",
      "test_get_one_match_index_10 (testcases.TestGetMatches) ... ok\n",
      "test_DataBaseConnector_connect (testcases.TestDatabaseConnector) ... ok\n",
      "test_DataBaseConnector_create (testcases.TestDatabaseConnector) ... ok\n",
      "test_DataBaseConnector_disconnect (testcases.TestDatabaseConnector) ... ok\n",
      "test_DataBaseConnector_get (testcases.TestDatabaseConnector) ... ok\n",
      "test_DataBaseConnector_getCollection (testcases.TestDatabaseConnector) ... ok\n",
      "test_DataBaseConnector_getCollectionNames (testcases.TestDatabaseConnector) ... ok\n",
      "test_DataBaseConnector_init (testcases.TestDatabaseConnector) ... ok\n",
      "test_DataBaseConnector_remove (testcases.TestDatabaseConnector) ... ok\n",
      "test_DataBaseConnector_update (testcases.TestDatabaseConnector) ... ok\n",
      "\n",
      "----------------------------------------------------------------------\n",
      "Ran 14 tests in 0.333s\n",
      "\n",
      "OK\n"
     ]
    }
   ],
   "source": [
    "# Ausführen von Unittests\n",
    "testcases.execute_unittests()"
   ]
  },
  {
   "cell_type": "code",
   "execution_count": 4,
   "metadata": {},
   "outputs": [],
   "source": [
    "# Erstellen der Coverage mit Report\n",
    "# TBD: Coverage Funktion implementieren\n",
    "# testcases.execute_coverage()"
   ]
  }
 ]
}