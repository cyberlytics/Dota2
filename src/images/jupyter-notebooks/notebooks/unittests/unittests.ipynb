{
 "metadata": {
  "language_info": {
   "codemirror_mode": {
    "name": "ipython",
    "version": 3
   },
   "file_extension": ".py",
   "mimetype": "text/x-python",
   "name": "python",
   "nbconvert_exporter": "python",
   "pygments_lexer": "ipython3",
   "version": "3.7.6"
  },
  "orig_nbformat": 4,
  "kernelspec": {
   "name": "python3",
   "display_name": "Python 3.7.6 64-bit ('base': conda)"
  },
  "interpreter": {
   "hash": "f842d2815b7eda78dc85586fa9d618bca455650ef3ae1e10f7bd3f5a50f288bc"
  }
 },
 "nbformat": 4,
 "nbformat_minor": 2,
 "cells": [
  {
   "cell_type": "code",
   "execution_count": 4,
   "metadata": {},
   "outputs": [],
   "source": [
    "%run ../../Setup.ipynb\n",
    "import os\n",
    "import unittest \n",
    "import testcases"
   ]
  },
  {
   "cell_type": "code",
   "execution_count": 5,
   "metadata": {},
   "outputs": [],
   "source": [
    "def suite():\n",
    "    \"\"\" Funktion zum Erstellen einer Test Suite. \"\"\"\n",
    "    suite = unittest.TestSuite()\n",
    "    suite.addTest(testcases.suite())\n",
    "    return suite"
   ]
  },
  {
   "cell_type": "code",
   "execution_count": 6,
   "metadata": {
    "tags": []
   },
   "outputs": [
    {
     "output_type": "stream",
     "name": "stderr",
     "text": [
      "test_get_10_matches (testcases.TestGetMatches) ... ok\n",
      "test_get_all_matches (testcases.TestGetMatches) ... ok\n",
      "test_get_matches_return_type (testcases.TestGetMatches) ... ok\n",
      "test_get_one_match_index_0 (testcases.TestGetMatches) ... ok\n",
      "test_get_one_match_index_10 (testcases.TestGetMatches) ... ok\n",
      "test_DataBaseConnector_connect (testcases.TestDatabaseConnector) ... ok\n",
      "test_DataBaseConnector_create (testcases.TestDatabaseConnector) ... ok\n",
      "test_DataBaseConnector_disconnect (testcases.TestDatabaseConnector) ... ok\n",
      "test_DataBaseConnector_get (testcases.TestDatabaseConnector) ... ok\n",
      "test_DataBaseConnector_getCollection (testcases.TestDatabaseConnector) ... ok\n",
      "test_DataBaseConnector_getCollectionNames (testcases.TestDatabaseConnector) ... ok\n",
      "test_DataBaseConnector_init (testcases.TestDatabaseConnector) ... ok\n",
      "test_DataBaseConnector_remove (testcases.TestDatabaseConnector) ... ok\n",
      "test_DataBaseConnector_save_model (testcases.TestDatabaseConnector) ... ok\n",
      "test_DataBaseConnector_update (testcases.TestDatabaseConnector) ... ok\n",
      "test_DataBaseConnector_update_model (testcases.TestDatabaseConnector) ... ok\n",
      "test_save_model_invalid (testcases.TestSaveModel) ... ok\n",
      "test_save_model_kda (testcases.TestSaveModel) ... ok\n",
      "test_save_model_no_kda (testcases.TestSaveModel) ... ok\n",
      "test_load_model_fail (testcases.TestLoadModel) ... ok\n",
      "test_load_model_kda (testcases.TestLoadModel) ... ok\n",
      "test_load_model_no_kda (testcases.TestLoadModel) ... ok\n",
      "test_write_match_duplicate (testcases.TestWriteMatch) ... ok\n",
      "test_write_match_success (testcases.TestWriteMatch) ... ok\n",
      "test_delete_match_no_existing_match (testcases.TestDeleteMatch) ... ok\n",
      "test_delete_match_success (testcases.TestDeleteMatch) ... ok\n",
      "test_build_dataframe_kda_as_expected (testcases.TestBuildDataFrame) ... ok\n",
      "test_build_dataframe_no_kda_as_expected (testcases.TestBuildDataFrame) ... ok\n",
      "test_build_dataframe_no_kda_type (testcases.TestBuildDataFrame) ... ok\n",
      "test_buld_dataframe_kda_type (testcases.TestBuildDataFrame) ... ok\n",
      "test_train_model_success (testcases.TestTrainModel) ... ok\n",
      "test_train_model_wrong_name (testcases.TestTrainModel) ... ok\n",
      "test_predict_matches_type (testcases.TestPredict) ... ok\n",
      "test_predict_model_name (testcases.TestPredict) ... ok\n",
      "test_predict_model_name_wrong (testcases.TestPredict) ... ok\n",
      "\n",
      "----------------------------------------------------------------------\n",
      "Ran 35 tests in 4.057s\n",
      "\n",
      "OK\n"
     ]
    }
   ],
   "source": [
    "# Ausführen von Unittests\n",
    "testcases.execute_unittests()"
   ]
  }
 ]
}