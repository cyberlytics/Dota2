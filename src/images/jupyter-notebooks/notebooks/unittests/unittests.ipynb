{
 "metadata": {
  "language_info": {
   "codemirror_mode": {
    "name": "ipython",
    "version": 3
   },
   "file_extension": ".py",
   "mimetype": "text/x-python",
   "name": "python",
   "nbconvert_exporter": "python",
   "pygments_lexer": "ipython3",
   "version": "3.9.5"
  },
  "orig_nbformat": 4,
  "kernelspec": {
   "name": "python3",
   "display_name": "Python 3.9.5 64-bit"
  },
  "interpreter": {
   "hash": "63fd5069d213b44bf678585dea6b12cceca9941eaf7f819626cde1f2670de90d"
  }
 },
 "nbformat": 4,
 "nbformat_minor": 2,
 "cells": [
  {
   "cell_type": "code",
   "execution_count": 1,
   "metadata": {},
   "outputs": [],
   "source": [
    "%run ../../Setup.ipynb\n",
    "import os\n",
    "import unittest \n",
    "import testcases"
   ]
  },
  {
   "cell_type": "code",
   "execution_count": 2,
   "metadata": {},
   "outputs": [],
   "source": [
    "def suite():\n",
    "    \"\"\" Funktion zum Erstellen einer Test Suite. \"\"\"\n",
    "    suite = unittest.TestSuite()\n",
    "    suite.addTest(testcases.suite())\n",
    "    return suite"
   ]
  },
  {
   "cell_type": "code",
   "execution_count": 3,
   "metadata": {},
   "outputs": [
    {
     "output_type": "stream",
     "name": "stderr",
     "text": [
      "test_division (testcases.TestCaseNotebook) ... ok\n",
      "test_division2 (testcases.TestCaseNotebook) ... ok\n",
      "test_division2_zero (testcases.TestCaseNotebook) ... ok\n",
      "test_division3 (testcases.TestCaseNotebook) ... ok\n",
      "test_division_zero (testcases.TestCaseNotebook) ... ok\n",
      "test_volume (testcases.TestCaseNotebook) ... ok\n",
      "test_volume_list (testcases.TestCaseNotebook) ... ok\n",
      "\n",
      "----------------------------------------------------------------------\n",
      "Ran 7 tests in 0.006s\n",
      "\n",
      "OK\n"
     ]
    }
   ],
   "source": [
    "# Ausführen von Unittests\n",
    "testcases.execute_unittests()"
   ]
  },
  {
   "cell_type": "code",
   "execution_count": 4,
   "metadata": {},
   "outputs": [],
   "source": [
    "# Erstellen der Coverage mit Report\n",
    "# TBD: Coverage Funktion implementieren\n",
    "# testcases.execute_coverage()"
   ]
  },
  {
   "cell_type": "code",
   "execution_count": null,
   "metadata": {},
   "outputs": [],
   "source": []
  }
 ]
}