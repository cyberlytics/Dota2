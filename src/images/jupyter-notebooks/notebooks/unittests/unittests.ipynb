{
 "metadata": {
  "language_info": {
   "codemirror_mode": {
    "name": "ipython",
    "version": 3
   },
   "file_extension": ".py",
   "mimetype": "text/x-python",
   "name": "python",
   "nbconvert_exporter": "python",
   "pygments_lexer": "ipython3",
   "version": "3.7.6"
  },
  "orig_nbformat": 4,
  "kernelspec": {
   "name": "python3",
   "display_name": "Python 3.7.6 64-bit ('base': conda)"
  },
  "interpreter": {
   "hash": "f842d2815b7eda78dc85586fa9d618bca455650ef3ae1e10f7bd3f5a50f288bc"
  }
 },
 "nbformat": 4,
 "nbformat_minor": 2,
 "cells": [
  {
   "cell_type": "code",
   "execution_count": null,
   "metadata": {},
   "outputs": [],
   "source": [
    "%run ../../Setup.ipynb\n",
    "import os\n",
    "import unittest \n",
    "import testcases"
   ]
  },
  {
   "cell_type": "code",
   "execution_count": null,
   "metadata": {},
   "outputs": [],
   "source": [
    "def suite():\n",
    "    \"\"\" Funktion zum Erstellen einer Test Suite. \"\"\"\n",
    "    suite = unittest.TestSuite()\n",
    "    suite.addTest(testcases.suite())\n",
    "    return suite"
   ]
  },
  {
   "cell_type": "code",
   "execution_count": null,
   "metadata": {
    "tags": []
   },
   "outputs": [],
   "source": [
    "# Ausführen von Unittests\n",
    "testcases.execute_unittests()"
   ]
  }
 ]
}