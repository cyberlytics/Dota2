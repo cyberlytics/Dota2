{
 "metadata": {
  "language_info": {
   "codemirror_mode": {
    "name": "ipython",
    "version": 3
   },
   "file_extension": ".py",
   "mimetype": "text/x-python",
   "name": "python",
   "nbconvert_exporter": "python",
   "pygments_lexer": "ipython3",
   "version": "3.9.5"
  },
  "orig_nbformat": 4,
  "kernelspec": {
   "name": "python3",
   "display_name": "Python 3.9.5 64-bit"
  },
  "interpreter": {
   "hash": "63fd5069d213b44bf678585dea6b12cceca9941eaf7f819626cde1f2670de90d"
  }
 },
 "nbformat": 4,
 "nbformat_minor": 2,
 "cells": [
  {
   "source": [
    "# Jupyter Notebook für Test Cases"
   ],
   "cell_type": "markdown",
   "metadata": {}
  },
  {
   "cell_type": "code",
   "execution_count": null,
   "metadata": {},
   "outputs": [],
   "source": [
    "%run ../../Setup.ipynb\n",
    "\n",
    "import unittest\n",
    "import subprocess\n",
    "from testfunctions_notebook import cuboid_volume_notebook, division_notebook, division2_notebook"
   ]
  },
  {
   "source": [
    "class TestCaseNotebook(unittest.TestCase):\n",
    "\n",
    "    def test_volume_list(self):\n",
    "        vals = [[2,8], [1,1], [0,0], [5.5, 166.375]]\n",
    "        for val in vals:\n",
    "            self.assertAlmostEqual(cuboid_volume_notebook(val[0]), val[1])\n",
    "\n",
    "    def test_volume(self):\n",
    "        self.assertAlmostEqual(cuboid_volume_notebook(2),8)\n",
    "        self.assertAlmostEqual(cuboid_volume_notebook(1),1)\n",
    "        self.assertAlmostEqual(cuboid_volume_notebook(0),0)\n",
    "        self.assertAlmostEqual(cuboid_volume_notebook(5.5),166.375)\n",
    "\n",
    "    def test_division(self):\n",
    "        self.assertAlmostEqual(division_notebook(4,2), 2)\n",
    "    \n",
    "    def test_division2(self):\n",
    "        self.assertAlmostEqual(division2_notebook(4,2), 2)\n",
    "    \n",
    "    def test_division3(self):\n",
    "        self.assertAlmostEqual(division_notebook(100,50), 2)\n",
    "\n",
    "    def test_division_zero(self):\n",
    "        self.assertRaises(ZeroDivisionError, lambda: division_notebook(4,0))\n",
    "    \n",
    "    def test_division2_zero(self):\n",
    "        self.assertRaises(ZeroDivisionError, lambda: division2_notebook(4,0))"
   ],
   "cell_type": "code",
   "metadata": {},
   "execution_count": null,
   "outputs": []
  },
  {
   "cell_type": "code",
   "execution_count": null,
   "metadata": {},
   "outputs": [],
   "source": [
    "def suite():\n",
    "    \"\"\"Funktion zum Erstellen einer Test Suite für die Ausführung der Unittests.\"\"\"\n",
    "    suite = unittest.TestSuite()\n",
    "    suite.addTest(unittest.makeSuite(TestCaseNotebook, 'test'))\n",
    "    return suite"
   ]
  },
  {
   "cell_type": "code",
   "execution_count": null,
   "metadata": {},
   "outputs": [],
   "source": [
    "def execute_unittests():\n",
    "    \"\"\"Funktion zum Ausführen der Unittests.\"\"\"\n",
    "    unittest.main(argv=[''], verbosity=2, exit=False, defaultTest='suite')"
   ]
  },
  {
   "cell_type": "code",
   "execution_count": null,
   "metadata": {},
   "outputs": [],
   "source": [
    "def execute_coverage():\n",
    "    # TBD\n",
    "    pass\n",
    "    # os.system(\"coverage run -m testcases.py\")\n",
    "    # subprocess.run([\"coverage\", \"run\", \"-m\", \"testcases.py\"])\n",
    "    # result = subprocess.run([\"coverage\", \"report\", \"-m\"], stdout=subprocess.PIPE)\n",
    "    # output = result.stdout\n",
    "    # output = output.decode(\"utf-8\")\n",
    "    # print(output)\n",
    "    # subprocess.run([\"coverage\", \"html\", \"-d\", \"html\"])\n",
    "    # cov = coverage.Coverage()\n",
    "    # cov.start()\n",
    "    # unittest.main(argv=[''], verbosity=2, exit=False, defaultTest='suite')\n",
    "    # cov.stop()\n",
    "    # cov.save()\n",
    "    # cov.html_report()"
   ]
  },
  {
   "cell_type": "code",
   "execution_count": null,
   "metadata": {},
   "outputs": [],
   "source": []
  }
 ]
}