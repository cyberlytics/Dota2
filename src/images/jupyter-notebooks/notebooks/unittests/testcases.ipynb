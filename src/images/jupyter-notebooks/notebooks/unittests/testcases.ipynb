{
 "metadata": {
  "language_info": {
   "codemirror_mode": {
    "name": "ipython",
    "version": 3
   },
   "file_extension": ".py",
   "mimetype": "text/x-python",
   "name": "python",
   "nbconvert_exporter": "python",
   "pygments_lexer": "ipython3",
   "version": "3.9.5"
  },
  "orig_nbformat": 4,
  "kernelspec": {
   "name": "python3",
   "display_name": "Python 3.9.5 64-bit"
  },
  "interpreter": {
   "hash": "63fd5069d213b44bf678585dea6b12cceca9941eaf7f819626cde1f2670de90d"
  }
 },
 "nbformat": 4,
 "nbformat_minor": 2,
 "cells": [
  {
   "source": [
    "# Jupyter Notebook für Test Cases"
   ],
   "cell_type": "markdown",
   "metadata": {}
  },
  {
   "cell_type": "code",
   "execution_count": 1,
   "metadata": {},
   "outputs": [],
   "source": [
    "%run ../../Setup.ipynb\n",
    "\n",
    "import unittest\n",
    "import subprocess\n",
    "import pymongo\n",
    "import bson\n",
    "from testfunctions_notebook import cuboid_volume_notebook, division_notebook, division2_notebook\n",
    "from bdcc.database.connection.database_connector import DatabaseConnector, get_matches"
   ]
  },
  {
   "cell_type": "code",
   "execution_count": 3,
   "metadata": {},
   "outputs": [],
   "source": [
    "class TestGetMatches(unittest.TestCase):\n",
    "\n",
    "    def test_get_all_matches(self):\n",
    "        test_list = get_matches()\n",
    "        test_call = get_matches()\n",
    "        self.assertListEqual(test_call, test_list)\n",
    "        self.assertEqual(test_call, test_list)\n",
    "        self.assertEqual(len(test_call), len(test_list))\n",
    "\n",
    "    def test_get_one_match_index_0(self):\n",
    "        test_list = get_matches(num_matches=1)\n",
    "        test_call = get_matches(num_matches=1)\n",
    "        self.assertListEqual(test_call, test_list)\n",
    "        self.assertEqual(test_call, test_list)\n",
    "        self.assertEqual(len(test_call), 1)\n",
    "    \n",
    "    def test_get_one_match_index_10(self):\n",
    "        test_list = get_matches(start_id=10, num_matches=1)\n",
    "        test_call = get_matches(start_id=10, num_matches=1)\n",
    "        self.assertListEqual(test_call, test_list)\n",
    "        self.assertEqual(test_call, test_list)\n",
    "        self.assertEqual(len(test_call), 1)\n",
    "    \n",
    "    def test_get_10_matches(self):\n",
    "        test_list = get_matches(num_matches=10)\n",
    "        test_call = get_matches(num_matches=10)\n",
    "        self.assertListEqual(test_call, test_list)\n",
    "        self.assertEqual(test_call, test_list)\n",
    "        self.assertEqual(len(test_call), 10)\n",
    "    \n",
    "    def test_get_matches_return_type(self):\n",
    "        test_call = get_matches(num_matches=1)\n",
    "        self.assertIsInstance(test_call, list)\n",
    "        self.assertIsInstance(test_call[0], dict)"
   ]
  },
  {
   "cell_type": "code",
   "execution_count": 4,
   "metadata": {},
   "outputs": [],
   "source": [
    "class TestDatabaseConnector(unittest.TestCase):\n",
    "    def setUp(self):\n",
    "        self.db_con = DatabaseConnector()\n",
    "    \n",
    "    def test_DataBaseConnector_init(self):\n",
    "        # url\n",
    "        self.assertEqual(self.db_con.url, 'localhost')\n",
    "        self.db_con.url = '127.0.0.1'\n",
    "        self.assertEqual(self.db_con.url, '127.0.0.1')\n",
    "        # port\n",
    "        self.assertEqual(self.db_con.port, 27018)\n",
    "        self.db_con.port = 27017\n",
    "        self.assertEqual(self.db_con.port, 27017)\n",
    "        # database\n",
    "        self.assertEqual(self.db_con.database, 'Data-KI')\n",
    "        self.db_con.database = 'Data'\n",
    "        self.assertEqual(self.db_con.database, 'Data')\n",
    "        # collection\n",
    "        self.assertEqual(self.db_con.collection, 'MatchesDto')\n",
    "        self.db_con.collection = 'Matches'\n",
    "        self.assertEqual(self.db_con.collection, 'Matches')\n",
    "\n",
    "    def test_DataBaseConnector_connect(self):\n",
    "        test_call = self.db_con.connect()\n",
    "        self.assertIsInstance(test_call, type(self.db_con))\n",
    "        self.assertIsInstance(test_call.client, pymongo.MongoClient)\n",
    "        self.assertIsInstance(test_call.db, pymongo.database.Database)\n",
    "        self.assertIsInstance(test_call.connection, type(self.db_con))\n",
    "        self.assertIsInstance(test_call.active_collection, pymongo.collection.Collection)\n",
    "    \n",
    "    def test_DataBaseConnector_disconnect(self):\n",
    "        # client nicht verbunden\n",
    "        self.assertRaises(ConnectionError, lambda: self.db_con.disconnect())\n",
    "        test_call = self.db_con.connect()\n",
    "        self.assertIsInstance(test_call, type(self.db_con))\n",
    "    \n",
    "    def test_DataBaseConnector_getCollectionNames(self):\n",
    "        self.db_con.connect()\n",
    "        test_call = self.db_con.getCollectionNames()\n",
    "        self.assertIsInstance(test_call, list)\n",
    "\n",
    "    def test_DataBaseConnector_getCollection(self):\n",
    "        self.db_con.connect()\n",
    "        test_call = self.db_con.getCollection('MatchesDto')\n",
    "        self.assertIsInstance(test_call, pymongo.collection.Collection)\n",
    "\n",
    "    def test_DataBaseConnector_create(self):\n",
    "        self.db_con.connect()\n",
    "        # TBD\n",
    "        #test_call = self.db_con.create(\"{\\\"test_id\\\": 1, \\\"test_val\\\": 10\")\n",
    "        #self.assertIsInstance(test_call, bson.objectid.ObjectId)\n",
    "    \n",
    "    def test_DataBaseConnector_get(self):\n",
    "        self.db_con.connect()\n",
    "        test_call_all = self.db_con.get()\n",
    "        test_call_one = self.db_con.get(id=1)\n",
    "        self.assertIsInstance(test_call_all, pymongo.cursor.Cursor)\n",
    "        self.assertGreaterEqual(len(list(test_call_all)), 1)\n",
    "        self.assertIsInstance(test_call_one, pymongo.cursor.Cursor)\n",
    "        self.assertEqual(len(list(test_call_one)), 1)\n",
    "    \n",
    "    def test_DataBaseConnector_update(self):\n",
    "        pass\n",
    "\n",
    "    def test_DataBaseConnector_remove(self):\n",
    "        pass"
   ]
  },
  {
   "cell_type": "code",
   "execution_count": 5,
   "metadata": {},
   "outputs": [],
   "source": [
    "def suite():\n",
    "    \"\"\"Funktion zum Erstellen einer Test Suite für die Ausführung der Unittests.\"\"\"\n",
    "    suite = unittest.TestSuite()\n",
    "    suite.addTest(unittest.makeSuite(TestGetMatches, 'test'))\n",
    "    suite.addTest(unittest.makeSuite(TestDatabaseConnector, 'test'))\n",
    "    return suite"
   ]
  },
  {
   "cell_type": "code",
   "execution_count": 6,
   "metadata": {},
   "outputs": [],
   "source": [
    "def execute_unittests():\n",
    "    \"\"\"Funktion zum Ausführen der Unittests.\"\"\"\n",
    "    unittest.main(argv=[''], verbosity=2, exit=False, defaultTest='suite')"
   ]
  },
  {
   "cell_type": "code",
   "execution_count": 7,
   "metadata": {},
   "outputs": [],
   "source": [
    "def execute_coverage():\n",
    "    # TBD\n",
    "    pass\n",
    "    # os.system(\"coverage run -m testcases.py\")\n",
    "    # subprocess.run([\"coverage\", \"run\", \"-m\", \"testcases.py\"])\n",
    "    # result = subprocess.run([\"coverage\", \"report\", \"-m\"], stdout=subprocess.PIPE)\n",
    "    # output = result.stdout\n",
    "    # output = output.decode(\"utf-8\")\n",
    "    # print(output)\n",
    "    # subprocess.run([\"coverage\", \"html\", \"-d\", \"html\"])\n",
    "    # cov = coverage.Coverage()\n",
    "    # cov.start()\n",
    "    # unittest.main(argv=[''], verbosity=2, exit=False, defaultTest='suite')\n",
    "    # cov.stop()\n",
    "    # cov.save()\n",
    "    # cov.html_report()"
   ]
  },
  {
   "cell_type": "code",
   "execution_count": null,
   "metadata": {},
   "outputs": [],
   "source": []
  }
 ]
}