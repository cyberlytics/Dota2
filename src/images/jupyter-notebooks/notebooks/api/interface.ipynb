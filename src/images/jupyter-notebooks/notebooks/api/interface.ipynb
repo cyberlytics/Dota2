{
 "metadata": {
  "language_info": {
   "codemirror_mode": {
    "name": "ipython",
    "version": 3
   },
   "file_extension": ".py",
   "mimetype": "text/x-python",
   "name": "python",
   "nbconvert_exporter": "python",
   "pygments_lexer": "ipython3",
   "version": "3.9.5"
  },
  "orig_nbformat": 4,
  "kernelspec": {
   "name": "python3",
   "display_name": "Python 3.9.5 64-bit"
  },
  "interpreter": {
   "hash": "63fd5069d213b44bf678585dea6b12cceca9941eaf7f819626cde1f2670de90d"
  }
 },
 "nbformat": 4,
 "nbformat_minor": 2,
 "cells": [
  {
   "cell_type": "code",
   "execution_count": null,
   "metadata": {},
   "outputs": [],
   "source": [
    "%run ../../Setup.ipynb\n",
    "\n",
    "# Import von Bibliotheken\n",
    "import pandas as pd\n",
    "import math\n",
    "import json\n",
    "import base64"
   ]
  },
  {
   "cell_type": "code",
   "execution_count": null,
   "metadata": {},
   "outputs": [],
   "source": [
    "def getDataFromRequest(request) -> str:\n",
    "    \"\"\"Function to extract data from requests.\"\"\"\n",
    "    req = json.loads(request)\n",
    "    return req['body'] # return data within the request"
   ]
  },
  {
   "source": [
    "# POST /writematch\n",
    "data = getDataFromRequest(REQUEST)\n",
    "print(data)\n",
    "# TBD: Action to write data into DB"
   ],
   "cell_type": "code",
   "metadata": {},
   "execution_count": null,
   "outputs": []
  },
  {
   "cell_type": "code",
   "execution_count": null,
   "metadata": {},
   "outputs": [],
   "source": [
    "# POST /deletematch\n",
    "data = getDataFromRequest(REQUEST)\n",
    "print(data)\n",
    "# TBD: Action to delete data in DB"
   ]
  },
  {
   "source": [
    "# POST /trainmodel\n",
    "print(\"Start of training.\")\n",
    "# TBD: Action to start model trainig"
   ],
   "cell_type": "code",
   "metadata": {},
   "execution_count": 2,
   "outputs": []
  },
  {
   "source": [
    "# POST /predict\n",
    "print(\"Start of prediciton.\")\n",
    "# TBS: Action to start prediction"
   ],
   "cell_type": "code",
   "metadata": {},
   "execution_count": null,
   "outputs": []
  },
  {
   "cell_type": "code",
   "execution_count": null,
   "metadata": {},
   "outputs": [],
   "source": []
  }
 ]
}