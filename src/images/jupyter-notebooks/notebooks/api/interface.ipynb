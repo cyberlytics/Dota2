{
 "cells": [
  {
   "cell_type": "code",
   "execution_count": null,
   "metadata": {},
   "outputs": [],
   "source": [
    "%run ../../Setup.ipynb\n",
    "\n",
    "# Import von Bibliotheken\n",
    "import pandas as pd\n",
    "import json\n",
    "from api_functions import api_functions"
   ]
  },
  {
   "cell_type": "code",
   "execution_count": null,
   "metadata": {},
   "outputs": [],
   "source": [
    "def getDataFromRequest(request):\n",
    "    \"\"\"Function to extract data from requests.\"\"\"\n",
    "    req = json.loads(request)\n",
    "    data = req['body']  # get transmitted data from request\n",
    "    return data"
   ]
  },
  {
   "cell_type": "code",
   "execution_count": null,
   "metadata": {},
   "outputs": [],
   "source": [
    "# POST /writematch\n",
    "match_data = getDataFromRequest(REQUEST)\n",
    "write_status = api_functions.write_match(match_data)"
   ]
  },
  {
   "cell_type": "code",
   "execution_count": null,
   "metadata": {},
   "outputs": [],
   "source": [
    "# ResponseInfo POST /writematch\n",
    "print(json.dumps({\n",
    "    \"headers\" : {\n",
    "        \"Content-Type\" : \"application/json\"\n",
    "    },\n",
    "    \"status\" : write_status\n",
    "}))"
   ]
  },
  {
   "cell_type": "code",
   "execution_count": null,
   "metadata": {},
   "outputs": [],
   "source": [
    "# POST /deletematch\n",
    "match_id = getDataFromRequest(REQUEST)\n",
    "delete_status = api_functions.delete_match(match_id)"
   ]
  },
  {
   "cell_type": "code",
   "execution_count": null,
   "metadata": {},
   "outputs": [],
   "source": [
    "# ResponseInfo POST /deletematch\n",
    "print(json.dumps({\n",
    "    \"headers\" : {\n",
    "        \"Content-Type\" : \"application/json\"\n",
    "    },\n",
    "    \"status\" : delete_status\n",
    "}))"
   ]
  },
  {
   "cell_type": "code",
   "execution_count": null,
   "metadata": {},
   "outputs": [],
   "source": [
    "# POST /trainmodel\n",
    "model_name = getDataFromRequest(REQUEST)\n",
    "train_status = api_functions.train_model(model_name)"
   ]
  },
  {
   "cell_type": "code",
   "execution_count": null,
   "metadata": {},
   "outputs": [],
   "source": [
    "# ResponseInfo POST /trainmodel\n",
    "print(json.dumps({\n",
    "    \"headers\" : {\n",
    "        \"Content-Type\" : \"application/json\"\n",
    "    },\n",
    "    \"status\" : train_status\n",
    "}))"
   ]
  },
  {
   "cell_type": "code",
   "execution_count": null,
   "metadata": {},
   "outputs": [],
   "source": [
    "# POST /predict\n",
    "data = getDataFromRequest(REQUEST)\n",
    "model_name = data['model_name']\n",
    "matches = data['matches']\n",
    "predict_status, predict_results = api_functions.predict(model_name, matches)\n",
    "print(json.dumps(predict_results))"
   ]
  },
  {
   "cell_type": "code",
   "execution_count": null,
   "metadata": {},
   "outputs": [],
   "source": [
    "# ResponseInfo POST /predict\n",
    "print(json.dumps({\n",
    "    \"headers\" : {\n",
    "        \"Content-Type\" : \"application/json\"\n",
    "    },\n",
    "    \"status\" : predict_status\n",
    "}))"
   ]
  }
 ],
 "metadata": {
  "interpreter": {
   "hash": "63fd5069d213b44bf678585dea6b12cceca9941eaf7f819626cde1f2670de90d"
  },
  "kernelspec": {
   "display_name": "Python 3",
   "language": "python",
   "name": "python3"
  },
  "language_info": {
   "codemirror_mode": {
    "name": "ipython",
    "version": 3
   },
   "file_extension": ".py",
   "mimetype": "text/x-python",
   "name": "python",
   "nbconvert_exporter": "python",
   "pygments_lexer": "ipython3",
   "version": "3.9.2"
  }
 },
 "nbformat": 4,
 "nbformat_minor": 2
}