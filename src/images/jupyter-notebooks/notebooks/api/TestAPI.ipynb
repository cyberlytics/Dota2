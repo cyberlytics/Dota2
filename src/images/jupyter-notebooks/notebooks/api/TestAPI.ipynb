{
 "cells": [
  {
   "cell_type": "code",
   "execution_count": 1,
   "metadata": {},
   "outputs": [],
   "source": [
    "%run ../../Setup.ipynb\n",
    "\n",
    "# Import von Bibliotheken\n",
    "import pandas as pd\n",
    "import math\n",
    "import json\n",
    "import base64\n",
    "\n",
    "# Import eines anderen Notebooks\n",
    "from samples import SampleSet as ss"
   ]
  },
  {
   "cell_type": "code",
   "execution_count": 2,
   "metadata": {},
   "outputs": [],
   "source": [
    "samples = ss.SampleSet()"
   ]
  },
  {
   "cell_type": "code",
   "execution_count": 3,
   "metadata": {},
   "outputs": [
    {
     "name": "stdout",
     "output_type": "stream",
     "text": [
      "Hallo Welt 1 :)\n"
     ]
    }
   ],
   "source": [
    "# GET /hallo\n",
    "print(\"Hallo Welt 1 :)\")"
   ]
  },
  {
   "cell_type": "code",
   "execution_count": 4,
   "metadata": {},
   "outputs": [
    {
     "name": "stdout",
     "output_type": "stream",
     "text": [
      "String aus SampleSet\n"
     ]
    }
   ],
   "source": [
    "# GET /hallo2\n",
    "print(samples.getStringSample())"
   ]
  },
  {
   "cell_type": "code",
   "execution_count": 5,
   "metadata": {},
   "outputs": [
    {
     "name": "stdout",
     "output_type": "stream",
     "text": [
      "{\"key\": \"value\", \"key2\": 5}\n"
     ]
    }
   ],
   "source": [
    "# GET /hallo3\n",
    "result = {\"key\": \"value\", \"key2\": 5}\n",
    "print(json.dumps(result))"
   ]
  }
 ],
 "metadata": {
  "kernelspec": {
   "display_name": "Python 3",
   "language": "python",
   "name": "python3"
  },
  "language_info": {
   "codemirror_mode": {
    "name": "ipython",
    "version": 3
   },
   "file_extension": ".py",
   "mimetype": "text/x-python",
   "name": "python",
   "nbconvert_exporter": "python",
   "pygments_lexer": "ipython3",
   "version": "3.7.3"
  },
  "metadata": {
   "interpreter": {
    "hash": "cc033ebe99e405e33a4a383e14ae1664bf67e0ee711f463ee69b81dbdcfa5b78"
   }
  }
 },
 "nbformat": 4,
 "nbformat_minor": 2
}
