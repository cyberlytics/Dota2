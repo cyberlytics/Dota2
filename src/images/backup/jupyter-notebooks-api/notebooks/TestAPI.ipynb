{
 "cells": [
  {
   "cell_type": "code",
   "execution_count": 1,
   "metadata": {},
   "outputs": [],
   "source": [
    "import pandas as pd\n",
    "import math\n",
    "import json\n",
    "import base64"
   ]
  },
  {
   "cell_type": "code",
   "execution_count": 2,
   "metadata": {},
   "outputs": [
    {
     "output_type": "stream",
     "name": "stdout",
     "text": [
      "Hallo Welt :)\n"
     ]
    }
   ],
   "source": [
    "# GET /hallo\n",
    "print(\"Hallo Welt :)\")"
   ]
  }
 ],
 "metadata": {
  "kernelspec": {
   "name": "python36464bitbaseconda79b5ad4251044762b13a54be5d862af8",
   "display_name": "Python 3.6.4 64-bit ('base': conda)"
  },
  "language_info": {
   "codemirror_mode": {
    "name": "ipython",
    "version": 3
   },
   "file_extension": ".py",
   "mimetype": "text/x-python",
   "name": "python",
   "nbconvert_exporter": "python",
   "pygments_lexer": "ipython3",
   "version": "3.6.4"
  },
  "metadata": {
   "interpreter": {
    "hash": "cc033ebe99e405e33a4a383e14ae1664bf67e0ee711f463ee69b81dbdcfa5b78"
   }
  }
 },
 "nbformat": 4,
 "nbformat_minor": 2
}