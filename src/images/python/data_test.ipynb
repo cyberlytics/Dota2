{
 "cells": [
  {
   "cell_type": "code",
   "execution_count": 1,
   "metadata": {},
   "outputs": [],
   "source": [
    "import requests\n",
    "import json"
   ]
  },
  {
   "cell_type": "code",
   "execution_count": 2,
   "metadata": {},
   "outputs": [],
   "source": [
    "# get matches with match id and save to .json\n",
    "matches = requests.get(\"https://api.opendota.com/api/matches/74170846\")\n",
    "\n",
    "with open('matches.json', 'w') as out:\n",
    "                json.dump(matches.json(), out, sort_keys=True, indent='\\t')"
   ]
  },
  {
   "cell_type": "code",
   "execution_count": 3,
   "metadata": {},
   "outputs": [],
   "source": [
    "# get matches for player id and save to .json\n",
    "account_id = 107828036\n",
    "player = requests.get(\"https://api.opendota.com/api/players/{}/matches\".format(account_id))\n",
    "\n",
    "with open('player_id.json', 'w') as out:\n",
    "                json.dump(player.json(), out, sort_keys=True, indent='\\t')"
   ]
  },
  {
   "cell_type": "code",
   "execution_count": 4,
   "metadata": {},
   "outputs": [],
   "source": [
    "# read from .json\n",
    "f = open('matches.json',)\n",
    "\n",
    "data_matches = json.load(f)\n",
    "\n",
    "f.close()"
   ]
  },
  {
   "cell_type": "code",
   "execution_count": 5,
   "metadata": {},
   "outputs": [],
   "source": [
    "# User-Story 1\n",
    "# one match, only players. without radiant_win, because key win already in dict\n",
    "# filter for keys\n",
    "filter_keys = ['pings', 'win']\n",
    "just_players = []\n",
    "\n",
    "for i in range(len(data_matches['players'])):\n",
    "    just_players.append({key:value for key, value in data_matches['players'][i].items() if key in filter_keys})"
   ]
  },
  {
   "cell_type": "code",
   "execution_count": 6,
   "metadata": {},
   "outputs": [
    {
     "name": "stdout",
     "output_type": "stream",
     "text": [
      "[{'pings': None, 'win': 0}, {'pings': None, 'win': 0}, {'pings': None, 'win': 0}, {'pings': None, 'win': 0}, {'pings': None, 'win': 0}, {'pings': None, 'win': 1}, {'pings': None, 'win': 1}, {'pings': None, 'win': 1}, {'pings': None, 'win': 1}, {'pings': None, 'win': 1}]\n"
     ]
    }
   ],
   "source": [
    "print(just_players)"
   ]
  },
  {
   "cell_type": "code",
   "execution_count": 7,
   "metadata": {},
   "outputs": [],
   "source": [
    "# User-Story 2\n",
    "# one match, only players. without radiant_win, because key win already in dict. assists, deaths, kills\n",
    "# filter for keys\n",
    "filter_keys = ['assists', 'deaths', 'kills', 'pings', 'win']\n",
    "just_players_kda = []\n",
    "\n",
    "for i in range(len(data_matches['players'])):\n",
    "    just_players_kda.append({key:value for key, value in data_matches['players'][i].items() if key in filter_keys})"
   ]
  },
  {
   "cell_type": "code",
   "execution_count": 8,
   "metadata": {},
   "outputs": [
    {
     "name": "stdout",
     "output_type": "stream",
     "text": [
      "[{'assists': 2, 'deaths': 9, 'kills': 1, 'pings': None, 'win': 0}, {'assists': 4, 'deaths': 7, 'kills': 5, 'pings': None, 'win': 0}, {'assists': 5, 'deaths': 12, 'kills': 1, 'pings': None, 'win': 0}, {'assists': 7, 'deaths': 10, 'kills': 6, 'pings': None, 'win': 0}, {'assists': 3, 'deaths': 13, 'kills': 4, 'pings': None, 'win': 0}, {'assists': 0, 'deaths': 0, 'kills': 0, 'pings': None, 'win': 1}, {'assists': 5, 'deaths': 9, 'kills': 3, 'pings': None, 'win': 1}, {'assists': 13, 'deaths': 3, 'kills': 29, 'pings': None, 'win': 1}, {'assists': 8, 'deaths': 3, 'kills': 3, 'pings': None, 'win': 1}, {'assists': 17, 'deaths': 3, 'kills': 12, 'pings': None, 'win': 1}]\n"
     ]
    }
   ],
   "source": [
    "print(just_players_kda)"
   ]
  },
  {
   "cell_type": "code",
   "execution_count": 9,
   "metadata": {},
   "outputs": [],
   "source": [
    "# User-Story 3\n",
    "# all matches for one player\n",
    "# read from .json\n",
    "f = open('player_id.json',)\n",
    "\n",
    "player_matches = json.load(f)\n",
    "\n",
    "f.close()"
   ]
  },
  {
   "cell_type": "code",
   "execution_count": 10,
   "metadata": {},
   "outputs": [],
   "source": [
    "# filter for match_id\n",
    "filter_keys = ['match_id']\n",
    "players_matchid = []\n",
    "\n",
    "for i in range(len(player_matches)):\n",
    "    players_matchid.append({key:value for key, value in player_matches[i].items() if key in filter_keys})"
   ]
  },
  {
   "cell_type": "code",
   "execution_count": null,
   "metadata": {},
   "outputs": [],
   "source": []
  },
  {
   "cell_type": "code",
   "execution_count": null,
   "metadata": {},
   "outputs": [],
   "source": []
  },
  {
   "cell_type": "code",
   "execution_count": 11,
   "metadata": {},
   "outputs": [],
   "source": [
    "# example first entry match_id\n",
    "id_to_search = players_matchid[0].get('match_id')"
   ]
  },
  {
   "cell_type": "code",
   "execution_count": 12,
   "metadata": {},
   "outputs": [
    {
     "data": {
      "text/plain": [
       "5619291363"
      ]
     },
     "execution_count": 12,
     "metadata": {},
     "output_type": "execute_result"
    }
   ],
   "source": [
    "id_to_search"
   ]
  },
  {
   "cell_type": "code",
   "execution_count": 13,
   "metadata": {},
   "outputs": [],
   "source": [
    "# get matches with match id and save to .json\n",
    "matches_playerid = requests.get(\"https://api.opendota.com/api/matches/{}\".format(id_to_search))\n",
    "\n",
    "with open('matches_id.json', 'w') as out:\n",
    "                json.dump(matches_playerid.json(), out, sort_keys=True, indent='\\t')"
   ]
  },
  {
   "cell_type": "code",
   "execution_count": 14,
   "metadata": {},
   "outputs": [],
   "source": [
    "# read from .json\n",
    "f = open('matches_id.json',)\n",
    "\n",
    "playerid_matches = json.load(f)\n",
    "\n",
    "f.close()"
   ]
  },
  {
   "cell_type": "code",
   "execution_count": 15,
   "metadata": {},
   "outputs": [],
   "source": [
    "# filter for keys\n",
    "filter_keys = ['assists', 'deaths', 'kills', 'pings', 'win']\n",
    "player_kda = []\n",
    "\n",
    "# find playerid in match\n",
    "for i in range(len(playerid_matches['players'])):\n",
    "    if playerid_matches['players'][i]['account_id'] == account_id:\n",
    "        player_kda.append({key:value for key, value in playerid_matches['players'][i].items() if key in filter_keys})"
   ]
  },
  {
   "cell_type": "code",
   "execution_count": 16,
   "metadata": {},
   "outputs": [
    {
     "data": {
      "text/plain": [
       "[{'assists': 15, 'deaths': 8, 'kills': 16, 'pings': 121, 'win': 0}]"
      ]
     },
     "execution_count": 16,
     "metadata": {},
     "output_type": "execute_result"
    }
   ],
   "source": [
    "player_kda"
   ]
  },
  {
   "cell_type": "code",
   "execution_count": null,
   "metadata": {},
   "outputs": [],
   "source": []
  },
  {
   "cell_type": "code",
   "execution_count": null,
   "metadata": {},
   "outputs": [],
   "source": []
  },
  {
   "cell_type": "code",
   "execution_count": null,
   "metadata": {},
   "outputs": [],
   "source": []
  },
  {
   "cell_type": "code",
   "execution_count": null,
   "metadata": {},
   "outputs": [],
   "source": []
  }
 ],
 "metadata": {
  "kernelspec": {
   "display_name": "Python 3",
   "language": "python",
   "name": "python3"
  },
  "language_info": {
   "codemirror_mode": {
    "name": "ipython",
    "version": 3
   },
   "file_extension": ".py",
   "mimetype": "text/x-python",
   "name": "python",
   "nbconvert_exporter": "python",
   "pygments_lexer": "ipython3",
   "version": "3.7.6"
  }
 },
 "nbformat": 4,
 "nbformat_minor": 4
}
