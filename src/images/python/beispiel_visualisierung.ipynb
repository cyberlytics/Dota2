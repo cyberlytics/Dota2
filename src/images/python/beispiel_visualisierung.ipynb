{
 "cells": [
  {
   "cell_type": "code",
   "execution_count": null,
   "metadata": {},
   "outputs": [],
   "source": [
    "## Initialize Notebook Loader\n",
    "from src import interface\n",
    "import requests"
   ]
  },
  {
   "cell_type": "code",
   "execution_count": null,
   "metadata": {
    "scrolled": true
   },
   "outputs": [],
   "source": [
    "single_match = interface.request_match_data(\"id\", id=6002791667)\n",
    "print(single_match)"
   ]
  },
  {
   "cell_type": "code",
   "execution_count": null,
   "metadata": {
    "tags": [
     "outputPrepend"
    ]
   },
   "outputs": [],
   "source": [
    "parsed_matches = interface.request_match_data(\"parsed\")\n",
    "print(parsed_matches)"
   ]
  },
  {
   "cell_type": "code",
   "execution_count": null,
   "metadata": {},
   "outputs": [],
   "source": [
    "import json\n",
    "import pandas as pd\n",
    "import numpy as np\n",
    "\n",
    "matches_json = json.loads(parsed_matches)\n"
   ]
  },
  {
   "cell_type": "code",
   "execution_count": null,
   "metadata": {},
   "outputs": [],
   "source": [
    "key = 'pings'\n",
    "list_player_list_1 = []\n",
    "\n",
    "for j in range(len(matches_json)):\n",
    "    just_players = []\n",
    "    plyr = matches_json[j]\n",
    "    for i in range(len(plyr['players'])):\n",
    "        just_players.append({key:value for key, value in plyr['players'][i].items()})\n",
    "    player_list = []\n",
    "    player_list.append(matches_json[j]['match_id'])\n",
    "    for i in range(len(plyr['players'])):\n",
    "        player_list.append(just_players[i].get(key, 0)) # adds players to list \n",
    "    list_player_list_1.append(player_list)\n",
    "    \n",
    "df = pd.DataFrame.from_records(list_player_list_1)\n",
    "df.columns = ['MatchId', 'Winner1','Winner2','Winner3','Winner4','Winner5','Loser1', 'Loser2', 'Loser3', 'Loser4', 'Loser5']"
   ]
  },
  {
   "cell_type": "code",
   "execution_count": null,
   "metadata": {},
   "outputs": [],
   "source": [
    "print(df)\n"
   ]
  },
  {
   "cell_type": "code",
   "execution_count": null,
   "metadata": {},
   "outputs": [],
   "source": [
    "df['LossPings']= df.iloc[:, -5:,].sum(axis=1)\n",
    "df['WinPings']= df.iloc[:, 1:6].sum(axis=1)\n",
    "df['CMP'] = np.where(df['WinPings'] >= df['LossPings'] ,1 , 0)\n",
    "print(df)"
   ]
  },
  {
   "cell_type": "code",
   "execution_count": null,
   "metadata": {},
   "outputs": [],
   "source": [
    "ttl_pings = df[\"WinPings\"].append(df[\"LossPings\"], ignore_index=True)\n",
    "win_loss_ttl = pd.Series(np.repeat([1, 0],[100, 100]))\n",
    "dft = pd.concat([ttl_pings, win_loss_ttl], axis = 1)\n",
    "dft.columns = [\"Pings\", \"Win\"]\n"
   ]
  },
  {
   "cell_type": "code",
   "execution_count": null,
   "metadata": {},
   "outputs": [],
   "source": [
    "import seaborn as sns\n",
    "import matplotlib.pyplot as plt\n",
    "\n",
    "ax = sns.catplot(x = \"CMP\", y = \"WinPings\", data = df[[\"CMP\", \"WinPings\"]])\n",
    "ax = ax.axes.flatten()\n",
    "ax[0].set_title(\"Team mit mehr Pings hat gewonnen\")\n",
    "ax[0].set_xlabel(\"Anzal der Pings im Gewinnerteam\")\n",
    "ax[0].set_ylabel(\"Anzahl der Pings\")\n",
    "ax2 = sns.catplot(x = \"CMP\", y = \"LossPings\", data = df[[\"CMP\", \"LossPings\"]])\n",
    "ax2 = ax2.axes.flatten()\n",
    "ax2[0].set_title(\"Team mit mehr Pings hat verloren\")\n",
    "ax2[0].set_xlabel(\"Anzal der Pings im Verliererteam\")\n",
    "ax2[0].set_ylabel(\"Anzahl der Pings\")\n",
    "\n",
    "ax3 = sns.catplot(y = \"Pings\", x = \"Win\", data = dft)\n",
    "ax3 = ax3.axes.flatten()\n",
    "ax3[0].set_title(\"Pings vs Sieg/Niederlage\")\n",
    "ax3[0].set_xlabel(\"Sieg/Niederlage\")\n",
    "ax3[0].set_ylabel(\"Anzahl der Pings\")\n",
    "plt.show()"
   ]
  },
  {
   "cell_type": "code",
   "execution_count": null,
   "metadata": {},
   "outputs": [],
   "source": [
    "import time\n",
    "\n",
    "m = requests.get(\"https://api.opendota.com/api/players/118247684/matches\")\n",
    "mjson = m.json()\n",
    "\n",
    "filter_keys_1 = ['match_id']\n",
    "key = 'pings'\n",
    "\n",
    "just_match_ids = []\n",
    "\n",
    "for i in range(125):\n",
    "    just_match_ids.append(mjson[i]['match_id'])\n",
    "\n",
    "matches = []\n",
    "\n",
    "for i in range(125):\n",
    "    time.sleep(1)\n",
    "    b = requests.get(\"https://api.opendota.com/api/matches/\"+str(just_match_ids[i]))\n",
    "    matches.append(b.json())\n",
    "\n",
    "filter_keys = ['pings', 'win']\n",
    "just_players = []\n",
    "\n",
    "list_player_list_1 = []\n",
    "\n",
    "for j in range(len(matches)):\n",
    "    just_players = []\n",
    "    plyr = matches[j]\n",
    "    for i in range(len(plyr['players'])):\n",
    "        just_players.append({key:value for key, value in plyr['players'][i].items() if key in filter_keys})\n",
    "    player_list = []\n",
    "    player_list.append(mjson[j]['match_id'])\n",
    "    for i in range(len(plyr['players'])):\n",
    "        p = just_players[i]\n",
    "        player_list.append(p.get(key, 0))\n",
    "    list_player_list_1.append(player_list)    \n",
    "\n",
    "df = pd.DataFrame.from_records(list_player_list_1)\n",
    "df.columns = ['MatchId', 'Winner1','Winner2','Winner3','Winner4','Winner5','Loser1', 'Loser2', 'Loser3', 'Loser4', 'Loser5']\n",
    "df.head()\n",
    "\n"
   ]
  },
  {
   "cell_type": "code",
   "execution_count": null,
   "metadata": {},
   "outputs": [],
   "source": [
    "filter_keys = ['assists', 'deaths', 'kills', 'pings', 'win']\n",
    "player_kda = []\n",
    "account_id = 118247684 \n",
    "\n",
    "playerid_matches = matches[0]\n",
    "for j in range(len(matches)):\n",
    "    playerid_matches = matches[j]\n",
    "    for i in range(len(playerid_matches['players'])):\n",
    "        if playerid_matches['players'][i]['account_id'] == account_id:\n",
    "            player_kda.append({key:value for key, value in playerid_matches['players'][i].items() if key in filter_keys})\n",
    "\n",
    "df_kda = pd.DataFrame(player_kda)"
   ]
  },
  {
   "cell_type": "code",
   "execution_count": null,
   "metadata": {},
   "outputs": [],
   "source": [
    "df_kda = df_kda.dropna()"
   ]
  },
  {
   "cell_type": "code",
   "execution_count": null,
   "metadata": {},
   "outputs": [],
   "source": [
    "sns.lmplot(x = 'pings', y = 'kills', data = df_kda, hue = 'win', fit_reg = False)\n",
    "plt.title(\"kills vs Pings\")\n",
    "plt.show()"
   ]
  },
  {
   "cell_type": "code",
   "execution_count": null,
   "metadata": {},
   "outputs": [],
   "source": [
    "sns.lmplot(x = 'pings', y = 'deaths', data = df_kda, hue = 'win', fit_reg = False)\n",
    "plt.title(\"deaths vs Pings\")\n",
    "plt.show()"
   ]
  },
  {
   "cell_type": "code",
   "execution_count": null,
   "metadata": {},
   "outputs": [],
   "source": [
    "sns.lmplot(x = 'pings', y = 'assists', data = df_kda, hue = 'win', fit_reg = False)\n",
    "plt.title(\"assists vs Pings\")\n",
    "plt.show()"
   ]
  },
  {
   "cell_type": "code",
   "execution_count": null,
   "metadata": {},
   "outputs": [],
   "source": [
    "from sklearn.model_selection import train_test_split\n",
    "\n",
    "y = df_kda[\"win\"]\n",
    "X = df_kda.drop([\"win\"], axis=1)\n",
    "X_train, X_test, y_train, y_test = train_test_split(X, y, test_size=0.2, random_state = 42)\n",
    "\n",
    "\n"
   ]
  },
  {
   "cell_type": "code",
   "execution_count": null,
   "metadata": {},
   "outputs": [],
   "source": [
    "from sklearn.neighbors import KNeighborsClassifier\n",
    "clf = KNeighborsClassifier(n_neighbors=3)\n",
    "\n",
    "clf = clf.fit(X_train, y_train)\n",
    "accuracy = clf.score(X_test, y_test)\n",
    "print(\"KNN\", accuracy)"
   ]
  }
 ],
 "metadata": {
  "interpreter": {
   "hash": "63fd5069d213b44bf678585dea6b12cceca9941eaf7f819626cde1f2670de90d"
  },
  "kernelspec": {
   "display_name": "Python 3",
   "language": "python",
   "name": "python3"
  },
  "language_info": {
   "codemirror_mode": {
    "name": "ipython",
    "version": 3
   },
   "file_extension": ".py",
   "mimetype": "text/x-python",
   "name": "python",
   "nbconvert_exporter": "python",
   "pygments_lexer": "ipython3",
   "version": "3.8.5"
  }
 },
 "nbformat": 4,
 "nbformat_minor": 2
}
